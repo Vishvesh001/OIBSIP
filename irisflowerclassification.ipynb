{
 "cells": [
  {
   "cell_type": "code",
   "execution_count": 31,
   "metadata": {
    "execution": {
     "iopub.execute_input": "2023-10-20T15:04:27.704733Z",
     "iopub.status.busy": "2023-10-20T15:04:27.704272Z",
     "iopub.status.idle": "2023-10-20T15:04:27.718088Z",
     "shell.execute_reply": "2023-10-20T15:04:27.716615Z",
     "shell.execute_reply.started": "2023-10-20T15:04:27.704697Z"
    }
   },
   "outputs": [],
   "source": [
    "import pandas as pd\n",
    "import matplotlib.pyplot as plt\n",
    "import seaborn as sns\n",
    "import numpy as np"
   ]
  },
  {
   "cell_type": "code",
   "execution_count": 32,
   "metadata": {
    "execution": {
     "iopub.execute_input": "2023-10-20T15:04:27.720331Z",
     "iopub.status.busy": "2023-10-20T15:04:27.719468Z",
     "iopub.status.idle": "2023-10-20T15:04:27.742959Z",
     "shell.execute_reply": "2023-10-20T15:04:27.741554Z",
     "shell.execute_reply.started": "2023-10-20T15:04:27.720298Z"
    }
   },
   "outputs": [
    {
     "name": "stdout",
     "output_type": "stream",
     "text": [
      "   Id  SepalLengthCm  SepalWidthCm  PetalLengthCm  PetalWidthCm      Species\n",
      "0   1            5.1           3.5            1.4           0.2  Iris-setosa\n",
      "1   2            4.9           3.0            1.4           0.2  Iris-setosa\n",
      "2   3            4.7           3.2            1.3           0.2  Iris-setosa\n",
      "3   4            4.6           3.1            1.5           0.2  Iris-setosa\n",
      "4   5            5.0           3.6            1.4           0.2  Iris-setosa\n"
     ]
    }
   ],
   "source": [
    "iris = pd.read_csv(\"Iris.csv\")\n",
    "print(iris.head())"
   ]
  },
  {
   "cell_type": "code",
   "execution_count": 33,
   "metadata": {
    "execution": {
     "iopub.execute_input": "2023-10-20T15:04:27.746319Z",
     "iopub.status.busy": "2023-10-20T15:04:27.745134Z",
     "iopub.status.idle": "2023-10-20T15:04:27.775992Z",
     "shell.execute_reply": "2023-10-20T15:04:27.774345Z",
     "shell.execute_reply.started": "2023-10-20T15:04:27.746277Z"
    }
   },
   "outputs": [
    {
     "name": "stdout",
     "output_type": "stream",
     "text": [
      "(150, 6)\n",
      "               Id  SepalLengthCm  SepalWidthCm  PetalLengthCm  PetalWidthCm\n",
      "count  150.000000     150.000000    150.000000     150.000000    150.000000\n",
      "mean    75.500000       5.843333      3.054000       3.758667      1.198667\n",
      "std     43.445368       0.828066      0.433594       1.764420      0.763161\n",
      "min      1.000000       4.300000      2.000000       1.000000      0.100000\n",
      "25%     38.250000       5.100000      2.800000       1.600000      0.300000\n",
      "50%     75.500000       5.800000      3.000000       4.350000      1.300000\n",
      "75%    112.750000       6.400000      3.300000       5.100000      1.800000\n",
      "max    150.000000       7.900000      4.400000       6.900000      2.500000\n",
      "Id               0\n",
      "SepalLengthCm    0\n",
      "SepalWidthCm     0\n",
      "PetalLengthCm    0\n",
      "PetalWidthCm     0\n",
      "Species          0\n",
      "dtype: int64\n"
     ]
    }
   ],
   "source": [
    "print(iris.shape)\n",
    "print(iris.describe())\n",
    "print(iris.isna().sum()) #for null values"
   ]
  },
  {
   "cell_type": "code",
   "execution_count": 34,
   "metadata": {
    "execution": {
     "iopub.execute_input": "2023-10-20T15:04:27.777631Z",
     "iopub.status.busy": "2023-10-20T15:04:27.777211Z",
     "iopub.status.idle": "2023-10-20T15:04:27.783342Z",
     "shell.execute_reply": "2023-10-20T15:04:27.782119Z",
     "shell.execute_reply.started": "2023-10-20T15:04:27.777593Z"
    }
   },
   "outputs": [],
   "source": [
    "from sklearn.linear_model import LogisticRegression\n",
    "from sklearn.model_selection import train_test_split\n",
    "from sklearn import metrics"
   ]
  },
  {
   "cell_type": "code",
   "execution_count": 35,
   "metadata": {
    "execution": {
     "iopub.execute_input": "2023-10-20T15:04:27.785703Z",
     "iopub.status.busy": "2023-10-20T15:04:27.784545Z",
     "iopub.status.idle": "2023-10-20T15:04:27.802910Z",
     "shell.execute_reply": "2023-10-20T15:04:27.802233Z",
     "shell.execute_reply.started": "2023-10-20T15:04:27.785670Z"
    }
   },
   "outputs": [
    {
     "name": "stdout",
     "output_type": "stream",
     "text": [
      "(112, 6)\n",
      "(38, 6)\n"
     ]
    }
   ],
   "source": [
    "train, test = train_test_split(iris, test_size = 0.25)\n",
    "print(train.shape)\n",
    "print(test.shape)"
   ]
  },
  {
   "cell_type": "code",
   "execution_count": 36,
   "metadata": {
    "execution": {
     "iopub.execute_input": "2023-10-20T15:04:27.804836Z",
     "iopub.status.busy": "2023-10-20T15:04:27.804281Z",
     "iopub.status.idle": "2023-10-20T15:04:27.818910Z",
     "shell.execute_reply": "2023-10-20T15:04:27.817740Z",
     "shell.execute_reply.started": "2023-10-20T15:04:27.804808Z"
    }
   },
   "outputs": [],
   "source": [
    "train_X = train[['SepalLengthCm', 'SepalWidthCm', 'PetalLengthCm','PetalWidthCm']]\n",
    "train_y = train.Species\n",
    "\n",
    "test_X = test[['SepalLengthCm', 'SepalWidthCm', 'PetalLengthCm','PetalWidthCm']]\n",
    "test_y = test.Species"
   ]
  },
  {
   "cell_type": "code",
   "execution_count": 37,
   "metadata": {
    "execution": {
     "iopub.execute_input": "2023-10-20T15:04:27.820568Z",
     "iopub.status.busy": "2023-10-20T15:04:27.820258Z",
     "iopub.status.idle": "2023-10-20T15:04:27.859446Z",
     "shell.execute_reply": "2023-10-20T15:04:27.858322Z",
     "shell.execute_reply.started": "2023-10-20T15:04:27.820543Z"
    }
   },
   "outputs": [
    {
     "name": "stdout",
     "output_type": "stream",
     "text": [
      "Accuracy: 1.0\n"
     ]
    }
   ],
   "source": [
    "#LogisticRegression Model\n",
    "model = LogisticRegression()\n",
    "model.fit(train_X, train_y)\n",
    "prediction = model.predict(test_X)\n",
    "print('Accuracy:',metrics.accuracy_score(prediction,test_y))"
   ]
  },
  {
   "cell_type": "code",
   "execution_count": 38,
   "metadata": {
    "execution": {
     "iopub.execute_input": "2023-10-20T15:04:27.862859Z",
     "iopub.status.busy": "2023-10-20T15:04:27.862061Z",
     "iopub.status.idle": "2023-10-20T15:04:27.876509Z",
     "shell.execute_reply": "2023-10-20T15:04:27.874952Z",
     "shell.execute_reply.started": "2023-10-20T15:04:27.862823Z"
    }
   },
   "outputs": [
    {
     "name": "stdout",
     "output_type": "stream",
     "text": [
      "Acc= 0.9736842105263158\n"
     ]
    }
   ],
   "source": [
    "#Using Support Vector\n",
    "from sklearn.svm import SVC\n",
    "model1 = SVC()\n",
    "model1.fit(train_X,train_y)\n",
    "\n",
    "pred_y = model1.predict(test_X)\n",
    "\n",
    "from sklearn.metrics import accuracy_score\n",
    "print(\"Acc=\",accuracy_score(test_y,pred_y))"
   ]
  }
 ],
 "metadata": {
  "kernelspec": {
   "display_name": "Python 3 (ipykernel)",
   "language": "python",
   "name": "python3"
  },
  "language_info": {
   "codemirror_mode": {
    "name": "ipython",
    "version": 3
   },
   "file_extension": ".py",
   "mimetype": "text/x-python",
   "name": "python",
   "nbconvert_exporter": "python",
   "pygments_lexer": "ipython3",
   "version": "3.7.5"
  }
 },
 "nbformat": 4,
 "nbformat_minor": 4
}
